{
  "nbformat": 4,
  "nbformat_minor": 0,
  "metadata": {
    "colab": {
      "name": "model.ipynb",
      "provenance": [],
      "collapsed_sections": []
    },
    "kernelspec": {
      "name": "python3",
      "display_name": "Python 3"
    }
  },
  "cells": [
    {
      "cell_type": "code",
      "metadata": {
        "id": "i5OHsJUqrpwQ",
        "colab_type": "code",
        "colab": {}
      },
      "source": [
        "import pandas as pd\n",
        "import numpy as np\n",
        "from sklearn.model_selection import train_test_split\n",
        "from sklearn import datasets\n",
        "from sklearn import tree\n",
        "import pickle"
      ],
      "execution_count": 0,
      "outputs": []
    },
    {
      "cell_type": "code",
      "metadata": {
        "id": "o5T2_lHNr3g2",
        "colab_type": "code",
        "colab": {}
      },
      "source": [
        "# it classification problem with 3 classes \n",
        "#load data\n",
        "iris = datasets.load_iris()\n",
        "x = iris.data\n",
        "y = iris.target\n",
        "labels ={\n",
        "  0: \"setosa\",\n",
        "  1: \"versicolor\",\n",
        "  2: \"virginica\"\n",
        "}\n",
        "x_train,x_test,y_train,y_test = train_test_split(x,y,test_size=0.5)"
      ],
      "execution_count": 0,
      "outputs": []
    },
    {
      "cell_type": "code",
      "metadata": {
        "id": "7XQsdegusKGk",
        "colab_type": "code",
        "colab": {}
      },
      "source": [
        "#build classifier\n",
        "classifier = tree.DecisionTreeClassifier()\n",
        "classifier.fit(x_train,y_train)\n",
        "predictions = classifier.predict(x_test)"
      ],
      "execution_count": 0,
      "outputs": []
    },
    {
      "cell_type": "code",
      "metadata": {
        "id": "4cJzehi1t43b",
        "colab_type": "code",
        "colab": {}
      },
      "source": [
        "#store model\n",
        "pickle.dump(classifier,open('model.pkl','wb'))\n"
      ],
      "execution_count": 0,
      "outputs": []
    },
    {
      "cell_type": "code",
      "metadata": {
        "id": "8pYij7Nauni6",
        "colab_type": "code",
        "colab": {
          "base_uri": "https://localhost:8080/",
          "height": 34
        },
        "outputId": "972eba91-765c-4836-d801-d2b30310baff"
      },
      "source": [
        "#test model\n",
        "model = pickle.load(open('model.pkl','rb'))\n",
        "x = [[4.3, 3. , 1.1, 0.1]]\n",
        "predict = model.predict(x)\n",
        "print(labels[predict[0]])"
      ],
      "execution_count": 48,
      "outputs": [
        {
          "output_type": "stream",
          "text": [
            "setosa\n"
          ],
          "name": "stdout"
        }
      ]
    }
  ]
}