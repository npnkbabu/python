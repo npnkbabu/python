{
 "cells": [
  {
   "cell_type": "markdown",
   "metadata": {},
   "source": [
    "Given an English sentence passed as a single string, generate a ‘jumbled’ representation by sorting the characters of each word alphabetically.\n",
    "\n",
    "The sentence may contain both capital letters and punctuation. Any capitalised characters within a word should retain their position within the word (though the character itself may change). Similarly any punctuation and spacing used should also remain in its original position.\n",
    "\n",
    "For example, “The cat sat on the Ikea mat.” would result in “Eht act ast on eht Aeik amt.”"
   ]
  },
  {
   "cell_type": "code",
   "execution_count": 20,
   "metadata": {},
   "outputs": [],
   "source": [
    "import re"
   ]
  },
  {
   "cell_type": "code",
   "execution_count": null,
   "metadata": {},
   "outputs": [],
   "source": [
    "\n",
    "def jumbled(string):\n",
    "    res=[]\n",
    "    for word in string.split():\n",
    "        prevword = word\n",
    "        capindex= [i for i,ch in enumerate(word) if ord(ch)>=65 and ord(ch)<=90]\n",
    "        puncindex = re.search(r'[.!?\\\\-]', word)\n",
    "        word = ''.join(sorted(re.search(r'[a-zA-Z]*',word).group(0).lower()))\n",
    "        if puncindex != None:\n",
    "            puncindex = puncindex.start()\n",
    "            word =word+prevword[puncindex]\n",
    "        print(word,capindex)\n",
    "        if (len(capindex) > 0):\n",
    "            capindex = capindex[0]\n",
    "            word = word[capindex].upper()+word[capindex+1:]\n",
    "        res.append(word)\n",
    "    return ' '.join(res)\n",
    "\n",
    "jumbled('The cat sat on the Ikea mat.')\n",
    "        #Eht act ast no eht Aeik amt."
   ]
  },
  {
   "cell_type": "markdown",
   "metadata": {},
   "source": [
    "Given a string representation of a bowling score card, calculate the numeric score of the score card.\n",
    "\n",
    "The scoring information for a bowling score card is provided below:\n",
    "\n",
    "Bowler is allowed a maximum of 10 frames.\n",
    "Each frame has 10 pins.\n",
    "Frames 1 - 9 consist of two balls (two attempts).\n",
    "Frame 10 can consist of three balls.\n",
    "If all pins are down using one ball, this is a strike (denoted by an X) and counts as 10 points.\n",
    "If all pins are down using two balls, this is a spare (denoted by a /) and counts as 10 points.\n",
    "In the event of a strike the next two balls' points count double.\n",
    "In the event of a spare the next one ball's points count double.\n",
    "In the event of a strike, the second attempt in that frame is not used.\n",
    "\n",
    "\n",
    "The score card will be passed as an array of strings constituting 10 frames. The method should return an integer score.\n",
    "\n",
    "For example, consider the following score card:\n",
    "\n",
    "[\"9\", \"/\", \"7\", \"1\", \"X\", \"5\", \"1\", \"0\", \"7\", \"9\", \"0\", \"3\", \"6\", \"X\", \"3\", \"1\", \"9\", \"0\"]\n",
    "\n",
    "The total score in the above example is 99."
   ]
  },
  {
   "cell_type": "code",
   "execution_count": null,
   "metadata": {},
   "outputs": [],
   "source": []
  },
  {
   "cell_type": "markdown",
   "metadata": {},
   "source": [
    "----------------------------------\n",
    "Write a function which takes an array of integers and returns true if the elements of the array can be divided into 2 groups whose sums are equal.\n",
    "\n",
    "For example:\n",
    "\n",
    "Given the array [2, 5, 3] the function would return true.\n",
    "\n",
    "The array [2, 5, 3] can be split up into the two groups [5] and [2, 3] whose sums are both 5."
   ]
  },
  {
   "cell_type": "code",
   "execution_count": 39,
   "metadata": {},
   "outputs": [
    {
     "data": {
      "text/plain": [
       "False"
      ]
     },
     "execution_count": 39,
     "metadata": {},
     "output_type": "execute_result"
    }
   ],
   "source": [
    "def sumequal(arr):\n",
    "    right_sum=0\n",
    "    left_sum=sum(arr)\n",
    "    n = len(arr)\n",
    "    for i in range (n-1,-1,-1):\n",
    "        right_sum += arr[i]\n",
    "        left_sum -= arr[i]\n",
    "        if (right_sum == left_sum):\n",
    "            return True\n",
    "    return False\n",
    "    \n",
    "    \n",
    "    \n",
    "sumequal([1,2,3,4])"
   ]
  },
  {
   "cell_type": "markdown",
   "metadata": {},
   "source": [
    "Write a function that takes a positive integer, N, and returns the maximal product of a set of positive integers whose sum is N. Invalid inputs should return 0, that is non-positive integers or any integer where no set of at least 2 positive addends exists.\n",
    "\n",
    "For example:\n",
    "\n",
    "Given 8, the result is 18\n",
    "\n",
    "8 can be written as 2+2+2+2 whose product is 16. However, it can also be written as 3+3+2 whose product is 18."
   ]
  },
  {
   "cell_type": "code",
   "execution_count": null,
   "metadata": {},
   "outputs": [],
   "source": []
  }
 ],
 "metadata": {
  "kernelspec": {
   "display_name": "Python 3",
   "language": "python",
   "name": "python3"
  },
  "language_info": {
   "codemirror_mode": {
    "name": "ipython",
    "version": 3
   },
   "file_extension": ".py",
   "mimetype": "text/x-python",
   "name": "python",
   "nbconvert_exporter": "python",
   "pygments_lexer": "ipython3",
   "version": "3.6.10"
  }
 },
 "nbformat": 4,
 "nbformat_minor": 4
}
